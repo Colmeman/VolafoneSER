{
 "cells": [
  {
   "cell_type": "code",
   "execution_count": 2,
   "metadata": {},
   "outputs": [],
   "source": [
    "import pandas as pd\n",
    "import numpy as np\n",
    "\n",
    "import os\n",
    "import sys\n",
    "\n",
    "# librosa is a Python library for analyzing audio and music. It can be used to extract the data from the audio files we will see it later.\n",
    "import librosa\n",
    "import librosa.display\n",
    "import seaborn as sns\n",
    "import matplotlib.pyplot as plt\n",
    "\n",
    "from sklearn.preprocessing import StandardScaler, OneHotEncoder\n",
    "from sklearn.metrics import confusion_matrix, classification_report\n",
    "from sklearn.model_selection import train_test_split\n",
    "\n",
    "# to play the audio files\n",
    "from IPython.display import Audio\n",
    "\n",
    "# import keras\n",
    "# from keras.callbacks import ReduceLROnPlateau\n",
    "# from keras.models import Sequential\n",
    "# from keras.layers import Dense, Conv1D, MaxPooling1D, Flatten, Dropout, BatchNormalization\n",
    "# from keras.utils import np_utils, to_categorical\n",
    "# from keras.callbacks import ModelCheckpoint\n",
    "\n",
    "import warnings\n",
    "if not sys.warnoptions:\n",
    "    warnings.simplefilter(\"ignore\")\n",
    "warnings.filterwarnings(\"ignore\", category=DeprecationWarning)"
   ]
  },
  {
   "cell_type": "code",
   "execution_count": null,
   "metadata": {},
   "outputs": [],
   "source": [
    "\n",
    "data_path_csv = /Users/sebastianbayne/Documents/WBS/Bootcamp/Final_Project /Datasets /data_path.csv"
   ]
  },
  {
   "cell_type": "code",
   "execution_count": 3,
   "metadata": {},
   "outputs": [
    {
     "ename": "NameError",
     "evalue": "name 'data_path' is not defined",
     "output_type": "error",
     "traceback": [
      "\u001b[0;31m---------------------------------------------------------------------------\u001b[0m",
      "\u001b[0;31mNameError\u001b[0m                                 Traceback (most recent call last)",
      "\u001b[1;32m/Colmeman/VolafoneSER/DataAugmentation/DataAugSeb.ipynb Cell 3\u001b[0m line \u001b[0;36m1\n\u001b[1;32m     <a href='vscode-notebook-cell://github/Colmeman/VolafoneSER/DataAugmentation/DataAugSeb.ipynb#W2sdnNjb2RlLXZmcw%3D%3D?line=13'>14</a>\u001b[0m     \u001b[39mreturn\u001b[39;00m librosa\u001b[39m.\u001b[39meffects\u001b[39m.\u001b[39mpitch_shift(data, sampling_rate, pitch_factor)\n\u001b[1;32m     <a href='vscode-notebook-cell://github/Colmeman/VolafoneSER/DataAugmentation/DataAugSeb.ipynb#W2sdnNjb2RlLXZmcw%3D%3D?line=15'>16</a>\u001b[0m \u001b[39m# taking any example and checking for techniques.\u001b[39;00m\n\u001b[0;32m---> <a href='vscode-notebook-cell://github/Colmeman/VolafoneSER/DataAugmentation/DataAugSeb.ipynb#W2sdnNjb2RlLXZmcw%3D%3D?line=16'>17</a>\u001b[0m path \u001b[39m=\u001b[39m np\u001b[39m.\u001b[39marray(data_path\u001b[39m.\u001b[39mPath)[\u001b[39m1\u001b[39m]\n\u001b[1;32m     <a href='vscode-notebook-cell://github/Colmeman/VolafoneSER/DataAugmentation/DataAugSeb.ipynb#W2sdnNjb2RlLXZmcw%3D%3D?line=17'>18</a>\u001b[0m data, sample_rate \u001b[39m=\u001b[39m librosa\u001b[39m.\u001b[39mload(path)\n",
      "\u001b[0;31mNameError\u001b[0m: name 'data_path' is not defined"
     ]
    }
   ],
   "source": [
    "def noise(data):\n",
    "    noise_amp = 0.035*np.random.uniform()*np.amax(data)\n",
    "    data = data + noise_amp*np.random.normal(size=data.shape[0])\n",
    "    return data\n",
    "\n",
    "def stretch(data, rate=0.8):\n",
    "    return librosa.effects.time_stretch(data, rate)\n",
    "\n",
    "def shift(data):\n",
    "    shift_range = int(np.random.uniform(low=-5, high = 5)*1000)\n",
    "    return np.roll(data, shift_range)\n",
    "\n",
    "def pitch(data, sampling_rate, pitch_factor=0.7):\n",
    "    return librosa.effects.pitch_shift(data, sampling_rate, pitch_factor)\n",
    "\n",
    "# taking any example and checking for techniques.\n",
    "path = np.array(data_path.Path)[1]\n",
    "data, sample_rate = librosa.load(path)"
   ]
  },
  {
   "cell_type": "code",
   "execution_count": 1,
   "metadata": {},
   "outputs": [
    {
     "name": "stdout",
     "output_type": "stream",
     "text": [
      "Collecting package metadata (current_repodata.json): / DEBUG:urllib3.connectionpool:Starting new HTTPS connection (1): repo.anaconda.com:443\n",
      "DEBUG:urllib3.connectionpool:Starting new HTTPS connection (1): repo.anaconda.com:443\n",
      "DEBUG:urllib3.connectionpool:Starting new HTTPS connection (1): repo.anaconda.com:443\n",
      "DEBUG:urllib3.connectionpool:Starting new HTTPS connection (1): repo.anaconda.com:443\n",
      "\\ DEBUG:urllib3.connectionpool:https://repo.anaconda.com:443 \"GET /pkgs/main/noarch/current_repodata.json HTTP/1.1\" 304 0\n",
      "DEBUG:urllib3.connectionpool:https://repo.anaconda.com:443 \"GET /pkgs/r/noarch/current_repodata.json HTTP/1.1\" 304 0\n",
      "| DEBUG:urllib3.connectionpool:https://repo.anaconda.com:443 \"GET /pkgs/main/osx-64/current_repodata.json HTTP/1.1\" 304 0\n",
      "DEBUG:urllib3.connectionpool:https://repo.anaconda.com:443 \"GET /pkgs/r/osx-64/current_repodata.json HTTP/1.1\" 304 0\n",
      "done\n",
      "Solving environment: done\n",
      "\n",
      "## Package Plan ##\n",
      "\n",
      "  environment location: /Users/sebastianbayne/anaconda3\n",
      "\n",
      "  added / updated specs:\n",
      "    - ipykernel\n",
      "\n",
      "\n",
      "The following packages will be downloaded:\n",
      "\n",
      "    package                    |            build\n",
      "    ---------------------------|-----------------\n",
      "    conda-23.7.4               |  py311hecd8cb5_0         1.3 MB\n",
      "    conda-content-trust-0.2.0  |  py311hecd8cb5_0          64 KB\n",
      "    ipykernel-6.25.0           |  py311h85bffb1_0         304 KB\n",
      "    ------------------------------------------------------------\n",
      "                                           Total:         1.7 MB\n",
      "\n",
      "The following packages will be UPDATED:\n",
      "\n",
      "  ca-certificates                     2023.05.30-hecd8cb5_0 --> 2023.08.22-hecd8cb5_0 \n",
      "  conda                              23.7.2-py311hecd8cb5_0 --> 23.7.4-py311hecd8cb5_0 \n",
      "  conda-content-tru~ pkgs/main/noarch::conda-content-trust~ --> pkgs/main/osx-64::conda-content-trust-0.2.0-py311hecd8cb5_0 \n",
      "  ipykernel                          6.19.2-py311h4975b63_0 --> 6.25.0-py311h85bffb1_0 \n",
      "  openssl                                 1.1.1u-hca72f7f_0 --> 1.1.1w-hca72f7f_0 \n",
      "\n",
      "\n",
      "\n",
      "Downloading and Extracting Packages\n",
      "conda-content-trust- | 64 KB     |                                       |   0% \n",
      "conda-23.7.4         | 1.3 MB    |                                       |   0% \u001b[A\n",
      "\n",
      "ipykernel-6.25.0     | 304 KB    |                                       |   0% \u001b[A\u001b[ADEBUG:urllib3.connectionpool:Starting new HTTPS connection (1): repo.anaconda.com:443\n",
      "DEBUG:urllib3.connectionpool:Starting new HTTPS connection (1): repo.anaconda.com:443\n",
      "DEBUG:urllib3.connectionpool:Starting new HTTPS connection (1): repo.anaconda.com:443\n",
      "DEBUG:urllib3.connectionpool:https://repo.anaconda.com:443 \"GET /pkgs/main/osx-64/conda-content-trust-0.2.0-py311hecd8cb5_0.conda HTTP/1.1\" 200 65741\n",
      "conda-content-trust- | 64 KB     | #########2                            |  25% DEBUG:urllib3.connectionpool:https://repo.anaconda.com:443 \"GET /pkgs/main/osx-64/conda-23.7.4-py311hecd8cb5_0.conda HTTP/1.1\" 200 1389857\n",
      "\n",
      "conda-content-trust- | 64 KB     | ##################################### | 100% \u001b[A\n",
      "conda-23.7.4         | 1.3 MB    | ###########3                          |  31% \u001b[ADEBUG:urllib3.connectionpool:https://repo.anaconda.com:443 \"GET /pkgs/main/osx-64/ipykernel-6.25.0-py311h85bffb1_0.conda HTTP/1.1\" 200 311340\n",
      "\n",
      "\n",
      "ipykernel-6.25.0     | 304 KB    | #9                                    |   5% \u001b[A\u001b[A\n",
      "conda-23.7.4         | 1.3 MB    | ##########################6           |  72% \u001b[A\n",
      "\n",
      "ipykernel-6.25.0     | 304 KB    | #########################3            |  68% \u001b[A\u001b[A\n",
      "\n",
      "ipykernel-6.25.0     | 304 KB    | ##################################### | 100% \u001b[A\u001b[A\n",
      "                                                                                \u001b[A\n",
      "                                                                                \u001b[A\n",
      "\n",
      "                                                                                \u001b[A\u001b[A\n",
      "Preparing transaction: done\n",
      "Verifying transaction: done\n",
      "Executing transaction: done\n",
      "\n",
      "Note: you may need to restart the kernel to use updated packages.\n"
     ]
    }
   ],
   "source": [
    "conda install ipykernel\n"
   ]
  },
  {
   "cell_type": "code",
   "execution_count": 2,
   "metadata": {},
   "outputs": [
    {
     "ename": "ModuleNotFoundError",
     "evalue": "No module named 'tensaorflow'",
     "output_type": "error",
     "traceback": [
      "\u001b[0;31m---------------------------------------------------------------------------\u001b[0m",
      "\u001b[0;31mModuleNotFoundError\u001b[0m                       Traceback (most recent call last)",
      "\u001b[1;32m/Colmeman/VolafoneSER/DataAugmentation/DataAugSeb.ipynb Cell 5\u001b[0m line \u001b[0;36m1\n\u001b[0;32m----> <a href='vscode-notebook-cell://github/Colmeman/VolafoneSER/DataAugmentation/DataAugSeb.ipynb#W4sdnNjb2RlLXZmcw%3D%3D?line=0'>1</a>\u001b[0m \u001b[39mimport\u001b[39;00m \u001b[39mtensaorflow\u001b[39;00m \u001b[39mas\u001b[39;00m \u001b[39mtf\u001b[39;00m\n",
      "\u001b[0;31mModuleNotFoundError\u001b[0m: No module named 'tensaorflow'"
     ]
    }
   ],
   "source": [
    "import tensaorflow as tf"
   ]
  }
 ],
 "metadata": {
  "kernelspec": {
   "display_name": "base",
   "language": "python",
   "name": "python3"
  },
  "language_info": {
   "codemirror_mode": {
    "name": "ipython",
    "version": 3
   },
   "file_extension": ".py",
   "mimetype": "text/x-python",
   "name": "python",
   "nbconvert_exporter": "python",
   "pygments_lexer": "ipython3",
   "version": "3.11.4"
  },
  "orig_nbformat": 4
 },
 "nbformat": 4,
 "nbformat_minor": 2
}
